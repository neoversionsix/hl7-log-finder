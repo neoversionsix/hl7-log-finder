{
 "cells": [
  {
   "cell_type": "code",
   "execution_count": 3,
   "metadata": {},
   "outputs": [],
   "source": [
    "# Input Variables\n",
    "searchterm = 'XXXXXX'\n",
    "# Note if you want to search the 10th of jan 22 use\n",
    "# 20220109 and 2022011\n",
    "date_greater_than = '20220721'\n",
    "date_less_than = '20220723'\n",
    "username = 'whittlj2'\n",
    "\n",
    "# Path for PROD LOGS\n",
    "path = r'\\\\whsrhaparch1\\RhapsodyHL7FileLogs_Prod\\MasterLog'\n",
    "\n",
    "# use path below for CERT\n",
    "#path = r'\\\\whsrhaparch1\\RhapsodyHL7FileLogs_Test\\MasterLog'"
   ]
  },
  {
   "cell_type": "markdown",
   "metadata": {},
   "source": [
    "Create output file in same location as code"
   ]
  },
  {
   "cell_type": "code",
   "execution_count": 4,
   "metadata": {},
   "outputs": [
    {
     "name": "stdout",
     "output_type": "stream",
     "text": [
      "# HL7 Search Results\n",
      "message appended\n",
      "message appended\n",
      "message appended\n",
      "message appended\n",
      "message appended\n",
      "message appended\n",
      "message appended\n",
      "message appended\n",
      "message appended\n",
      "message appended\n",
      "Creating Excel file\n",
      "Output file location:  C:\\Users\\\\whittlj2\\OUTPUT-2022-07-27 16-58-56_293626.xlsx\n",
      "ALL DONE, file created\n"
     ]
    }
   ],
   "source": [
    "#import libraries\n",
    "import os\n",
    "import datetime\n",
    "import pandas as pd\n",
    "\n",
    "# Make dates numbers\n",
    "date_greater_than=int(date_greater_than)\n",
    "date_less_than = int(date_less_than)\n",
    "\n",
    "# Create an empty dataframe\n",
    "column_names = [\"filepath\", \"HL7 Message\"]\n",
    "df = pd.DataFrame(columns = column_names)\n",
    "\n",
    "# Create Output file (can cause permission errors)\n",
    "outfilp = r'C:\\Users\\\\'\n",
    "outfilp = outfilp + username + '\\\\'\n",
    "outputfilename = 'OUTPUT-'\n",
    "datetime_str = str(datetime.datetime.now())\n",
    "datetime_str = datetime_str.replace('.', '_')\n",
    "datetime_str = datetime_str.replace(':', '-')\n",
    "filetype = '.xlsx'\n",
    "outputfilename = outfilp + outputfilename + datetime_str + filetype\n",
    "outputfilename = str(outputfilename)\n",
    "\n",
    "os.chdir(path)\n",
    "files = os.listdir()\n",
    "folders = list(filter(lambda x: not x.endswith('zip'), files))\n",
    "\n",
    "# Filter folders for date greater than this number\n",
    "filtered_folders = []\n",
    "\n",
    "for item in folders:\n",
    "    folder_date = item[0:8]\n",
    "    folder_date = int(folder_date)\n",
    "    if ((folder_date > date_greater_than) and (folder_date < date_less_than)):\n",
    "        filtered_folders.append(item)\n",
    "\n",
    "string = '# HL7 Results'\n",
    "print('# HL7 Search Results')\n",
    "for afolder in filtered_folders:\n",
    "    path2 = os.path.join(path, afolder)\n",
    "    files2 = os.listdir(path2)\n",
    "    for afile in files2:\n",
    "        filepath = os.path.join(path2, afile)\n",
    "        with open(filepath, 'r') as f:\n",
    "            read_data = f.read()\n",
    "            hl7_list = read_data.split('======')\n",
    "            for hl7message in hl7_list:\n",
    "                if searchterm in hl7message:\n",
    "                    d = {\"filepath\": [filepath], \"HL7 Message\": [hl7message]}\n",
    "                    dfa = pd.DataFrame(data=d)\n",
    "                    df = pd.concat([df, dfa], ignore_index=True)\n",
    "                    print('message appended')\n",
    "print('Creating Excel file')\n",
    "df.to_excel(outputfilename, index=False)\n",
    "print('Output file location: ', outputfilename)\n",
    "print('ALL DONE, file created')"
   ]
  },
  {
   "cell_type": "code",
   "execution_count": null,
   "metadata": {},
   "outputs": [],
   "source": []
  }
 ],
 "metadata": {
  "kernelspec": {
   "display_name": "Python 3.9.13 64-bit (windows store)",
   "language": "python",
   "name": "python3"
  },
  "language_info": {
   "codemirror_mode": {
    "name": "ipython",
    "version": 3
   },
   "file_extension": ".py",
   "mimetype": "text/x-python",
   "name": "python",
   "nbconvert_exporter": "python",
   "pygments_lexer": "ipython3",
   "version": "3.9.13"
  },
  "vscode": {
   "interpreter": {
    "hash": "0d8a354d9faeed0e741e88709d0ca4cfdcbab2911b6a97752e1a88b65797b277"
   }
  }
 },
 "nbformat": 4,
 "nbformat_minor": 4
}
